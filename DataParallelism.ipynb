{
  "nbformat": 4,
  "nbformat_minor": 0,
  "metadata": {
    "colab": {
      "name": "DataParallelism.ipynb",
      "version": "0.3.2",
      "provenance": [],
      "include_colab_link": true
    },
    "kernelspec": {
      "name": "python3",
      "display_name": "Python 3"
    },
    "accelerator": "GPU"
  },
  "cells": [
    {
      "cell_type": "markdown",
      "metadata": {
        "id": "view-in-github",
        "colab_type": "text"
      },
      "source": [
        "<a href=\"https://colab.research.google.com/github/StarryNight82/PyTorch/blob/master/DataParallelism.ipynb\" target=\"_parent\"><img src=\"https://colab.research.google.com/assets/colab-badge.svg\" alt=\"Open In Colab\"/></a>"
      ]
    },
    {
      "cell_type": "code",
      "metadata": {
        "id": "HarcjnvCSeTB",
        "colab_type": "code",
        "colab": {
          "base_uri": "https://localhost:8080/",
          "height": 161
        },
        "outputId": "19e59c1b-96a9-43d5-a1b5-2b1df5df3bce"
      },
      "source": [
        "import torch\n",
        "import torch.nn as nn\n",
        "from torch.utils.data import Dataset, DataLoader\n",
        "\n",
        "input_size = 5\n",
        "output_size = 2\n",
        "\n",
        "batch_size = 30\n",
        "data_size = 100\n",
        "\n",
        "device = torch.device(\"cuda:0\" if torch.cuda.is_available() else \"cpu\")\n",
        "\n",
        "class RandomDataset(Dataset):\n",
        "  \n",
        "  def __init__(self, size, length):\n",
        "    self.len = length\n",
        "    self.data = torch.randn(length, size)\n",
        "  \n",
        "  def __getitem__(self,index):\n",
        "    return self.data[index]\n",
        "  \n",
        "  def __len__(self):\n",
        "    return self.len\n",
        "\n",
        "rand_loader = DataLoader(dataset = RandomDataset(input_size, data_size), batch_size = batch_size, shuffle = True)\n",
        "\n",
        "class Model(nn.Module):\n",
        "  \n",
        "  def __init__(self, input_size, output_size):\n",
        "    super(Model, self).__init__()\n",
        "    self.fc = nn.Linear(input_size, output_size)\n",
        "    \n",
        "  def forward(self, input):\n",
        "    output = self.fc(input)\n",
        "    print(\"\\tIn Model: input size\", input.size(), \"output size\", output.size())\n",
        "    \n",
        "    return output\n",
        "\n",
        "model = Model(input_size, output_size)\n",
        "if torch.cuda.device_count() >1:\n",
        "  print(\"Let's use\", torch.cuda.device_count(), \"GPUs!\")\n",
        "  model = nn.DataParallel(model)\n",
        "\n",
        "model.to(device)\n",
        "\n",
        "for data in rand_loader:\n",
        "  input = data.to(device)\n",
        "  output = model(input)\n",
        "  print(\"Outside: input size\", input.size(), \"output_size\", output.size())\n",
        "\n"
      ],
      "execution_count": 7,
      "outputs": [
        {
          "output_type": "stream",
          "text": [
            "\tIn Model: input size torch.Size([30, 5]) output size torch.Size([30, 2])\n",
            "Outside: input size torch.Size([30, 5]) output_size torch.Size([30, 2])\n",
            "\tIn Model: input size torch.Size([30, 5]) output size torch.Size([30, 2])\n",
            "Outside: input size torch.Size([30, 5]) output_size torch.Size([30, 2])\n",
            "\tIn Model: input size torch.Size([30, 5]) output size torch.Size([30, 2])\n",
            "Outside: input size torch.Size([30, 5]) output_size torch.Size([30, 2])\n",
            "\tIn Model: input size torch.Size([10, 5]) output size torch.Size([10, 2])\n",
            "Outside: input size torch.Size([10, 5]) output_size torch.Size([10, 2])\n"
          ],
          "name": "stdout"
        }
      ]
    }
  ]
}